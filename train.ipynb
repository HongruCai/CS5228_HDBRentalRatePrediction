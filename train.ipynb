{
 "cells": [
  {
   "cell_type": "markdown",
   "metadata": {},
   "source": [
    "# CS5228 Rental Prediction"
   ]
  },
  {
   "cell_type": "code",
   "execution_count": null,
   "metadata": {},
   "outputs": [],
   "source": [
    "import numpy as np\n",
    "import pandas as pd\n",
    "from sklearn.model_selection import train_test_split\n",
    "from sklearn.linear_model import LinearRegression, ElasticNet\n",
    "from sklearn.svm import SVR\n",
    "from sklearn.ensemble import RandomForestRegressor, GradientBoostingRegressor\n",
    "\n",
    "# 加载数据\n",
    "train_data = pd.read_csv('./data/processed/train.csv')\n",
    "test_data = pd.read_csv('./data/processed/test.csv')\n",
    "\n",
    "X_train, y_train = train_data.drop(columns='monthly_rent'), train_data['monthly_rent'].copy()\n",
    "X_test = test_data\n",
    "# 初始化模型\n",
    "models = {\n",
    "    'Linear Regression': LinearRegression(),\n",
    "    'Elastic Net': ElasticNet(),\n",
    "    'Gradient Boosting': GradientBoostingRegressor(random_state=42, verbose=1),\n",
    "    'Random Forest': RandomForestRegressor(random_state=42, verbose=1, n_jobs=-1),\n",
    "    'SVM': SVR(),\n",
    "    'Gradient Boosting': GradientBoostingRegressor(random_state=42, verbose=1, n_estimators=300, max_depth=4, learning_rate=0.15, subsample=0.8, max_features=0.8),\n",
    "}\n",
    "\n",
    "# 训练模型并进行评估\n",
    "for name, model in models.items():\n",
    "    print(f'Training {name}...')\n",
    "    model.fit(X_train, y_train)\n",
    "    y_pred = model.predict(X_test)\n",
    "    print(f'{name} training completed.')\n",
    "    # 创建一个DataFrame来保存结果\n",
    "    result_df = pd.DataFrame({\n",
    "        'Id': range(len(y_pred)),\n",
    "        'Predicted': y_pred\n",
    "    })\n",
    "    save_path = './data/predictions/' + name + '.csv'\n",
    "    result_df.to_csv(save_path, index=False)\n",
    "    print(f'{name} training result saved.\\n')\n"
   ]
  }
 ],
 "metadata": {
  "kernelspec": {
   "display_name": "CS5228",
   "language": "python",
   "name": "python3"
  },
  "language_info": {
   "codemirror_mode": {
    "name": "ipython",
    "version": 3
   },
   "file_extension": ".py",
   "mimetype": "text/x-python",
   "name": "python",
   "nbconvert_exporter": "python",
   "pygments_lexer": "ipython3",
   "version": "3.8.17"
  }
 },
 "nbformat": 4,
 "nbformat_minor": 2
}
