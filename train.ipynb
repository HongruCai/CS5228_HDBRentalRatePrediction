{
 "cells": [
  {
   "cell_type": "markdown",
   "metadata": {},
   "source": [
    "# CS5228 Rental Prediction"
   ]
  },
  {
   "cell_type": "code",
   "execution_count": 3,
   "metadata": {},
   "outputs": [],
   "source": [
    "import numpy as np\n",
    "import pandas as pd\n",
    "from sklearn.preprocessing import StandardScaler\n",
    "from sklearn.model_selection import train_test_split\n",
    "from sklearn.linear_model import LinearRegression, ElasticNet\n",
    "from sklearn.svm import SVR\n",
    "from sklearn.ensemble import RandomForestRegressor, GradientBoostingRegressor\n",
    "\n",
    "# load data\n",
    "train_data = pd.read_csv('./data/processed/train.csv')\n",
    "test_data = pd.read_csv('./data/processed/test.csv')\n",
    "\n",
    "X_train, y_train = train_data.drop(columns='monthly_rent'), train_data['monthly_rent'].copy()\n",
    "X_test = test_data\n",
    "\n",
    "# Standardize data\n",
    "scaler = StandardScaler()\n",
    "X_train = scaler.fit_transform(X_train)\n",
    "X_test = scaler.transform(X_test)\n"
   ]
  },
  {
   "cell_type": "code",
   "execution_count": 4,
   "metadata": {},
   "outputs": [
    {
     "name": "stdout",
     "output_type": "stream",
     "text": [
      "Training Linear Regression...\n",
      "Linear Regression training completed.\n",
      "Linear Regression training result saved.\n",
      "\n",
      "Training Elastic Net...\n",
      "Elastic Net training completed.\n",
      "Elastic Net training result saved.\n",
      "\n",
      "Training Gradient Boosting...\n",
      "      Iter       Train Loss   Remaining Time \n",
      "         1      452893.7174           11.81s\n",
      "         2      424531.7705           10.96s\n",
      "         3      401333.5645           10.05s\n",
      "         4      382028.9000           10.05s\n",
      "         5      366314.1370            9.72s\n",
      "         6      352992.6863            9.56s\n",
      "         7      341995.6910            9.27s\n",
      "         8      332833.8340            9.05s\n",
      "         9      325058.2537            8.80s\n",
      "        10      318219.4335            8.61s\n",
      "        20      283501.1700            7.22s\n",
      "        30      270326.3257            6.05s\n",
      "        40      262633.4454            5.04s\n",
      "        50      257603.6594            4.13s\n",
      "        60      254099.0730            3.26s\n",
      "        70      251260.8389            2.42s\n",
      "        80      249479.3715            1.60s\n",
      "        90      247447.3521            0.79s\n",
      "       100      245729.5747            0.00s\n",
      "Gradient Boosting training completed.\n",
      "Gradient Boosting training result saved.\n",
      "\n",
      "Training Random Forest...\n"
     ]
    },
    {
     "name": "stderr",
     "output_type": "stream",
     "text": [
      "[Parallel(n_jobs=-1)]: Using backend ThreadingBackend with 8 concurrent workers.\n",
      "[Parallel(n_jobs=-1)]: Done  34 tasks      | elapsed:    2.2s\n",
      "[Parallel(n_jobs=-1)]: Done 100 out of 100 | elapsed:    5.8s finished\n",
      "[Parallel(n_jobs=8)]: Using backend ThreadingBackend with 8 concurrent workers.\n",
      "[Parallel(n_jobs=8)]: Done  34 tasks      | elapsed:    0.1s\n",
      "[Parallel(n_jobs=8)]: Done 100 out of 100 | elapsed:    0.1s finished\n"
     ]
    },
    {
     "name": "stdout",
     "output_type": "stream",
     "text": [
      "Random Forest training completed.\n",
      "Random Forest training result saved.\n",
      "\n",
      "Training SVM...\n",
      "SVM training completed.\n",
      "SVM training result saved.\n",
      "\n"
     ]
    }
   ],
   "source": [
    "\n",
    "# Initialize models\n",
    "models = {\n",
    "    'Linear Regression': LinearRegression(),\n",
    "    'Elastic Net': ElasticNet(),\n",
    "    'Gradient Boosting': GradientBoostingRegressor(random_state=42, verbose=1),\n",
    "    'Random Forest': RandomForestRegressor(random_state=42, verbose=1, n_jobs=-1),\n",
    "    'Gradient Boosting': GradientBoostingRegressor(random_state=42, verbose=1),\n",
    "    'SVM': SVR(),\n",
    "}\n",
    "\n",
    "# train models and save results\n",
    "for name, model in models.items():\n",
    "    print(f'Training {name}...')\n",
    "    \n",
    "    # Train model\n",
    "    model.fit(X_train, y_train)\n",
    "    y_pred = model.predict(X_test)\n",
    "    print(f'{name} training completed.')\n",
    "\n",
    "    # Create a dataframe with two columns: Id & Predicted\n",
    "    result_df = pd.DataFrame({\n",
    "        'Id': range(len(y_pred)),\n",
    "        'Predicted': y_pred\n",
    "    })\n",
    "    save_path = './data/predictions/' + name + '.csv'\n",
    "    result_df.to_csv(save_path, index=False)\n",
    "    print(f'{name} training result saved.\\n')"
   ]
  }
 ],
 "metadata": {
  "kernelspec": {
   "display_name": "CS5228",
   "language": "python",
   "name": "python3"
  },
  "language_info": {
   "codemirror_mode": {
    "name": "ipython",
    "version": 3
   },
   "file_extension": ".py",
   "mimetype": "text/x-python",
   "name": "python",
   "nbconvert_exporter": "python",
   "pygments_lexer": "ipython3",
   "version": "3.8.17"
  }
 },
 "nbformat": 4,
 "nbformat_minor": 2
}
