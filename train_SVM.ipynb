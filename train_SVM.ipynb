{
 "cells": [
  {
   "cell_type": "markdown",
   "metadata": {},
   "source": [
    "# CS5228 Rental Prediction"
   ]
  },
  {
   "cell_type": "code",
   "execution_count": 1,
   "metadata": {},
   "outputs": [],
   "source": [
    "import numpy as np\n",
    "import pandas as pd\n",
    "from sklearn.preprocessing import StandardScaler\n",
    "from sklearn.model_selection import train_test_split\n",
    "from sklearn.linear_model import LinearRegression, ElasticNet\n",
    "from sklearn.svm import SVR\n",
    "from sklearn.ensemble import RandomForestRegressor, GradientBoostingRegressor, AdaBoostRegressor\n",
    "from sklearn.metrics import mean_squared_error, mean_absolute_error\n",
    "import matplotlib.pyplot as plt\n",
    "from sklearn.metrics import mean_squared_error\n",
    "from sklearn.model_selection import learning_curve\n",
    "from sklearn.model_selection import train_test_split, cross_validate\n",
    "from sklearn.metrics import f1_score, mean_squared_error\n",
    "from sklearn.tree import DecisionTreeRegressor\n",
    "from matplotlib.colors import ListedColormap\n",
    "# load data\n",
    "train_data = pd.read_csv('./data/processed/train.csv')\n",
    "test_data = pd.read_csv('./data/processed/test.csv')\n",
    "\n",
    "X_train, y_train = train_data.drop(columns='monthly_rent'), train_data['monthly_rent'].copy()\n",
    "X_test = test_data\n",
    "\n",
    "# Standardize data\n",
    "scaler = StandardScaler()\n",
    "X_train = scaler.fit_transform(X_train)\n",
    "X_test = scaler.transform(X_test)\n"
   ]
  },
  {
   "cell_type": "code",
   "execution_count": 6,
   "metadata": {},
   "outputs": [
    {
     "name": "stdout",
     "output_type": "stream",
     "text": [
      "Training SVM...\n",
      "SVM training completed.\n",
      "SVM training result saved.\n",
      "\n",
      "SVM evaluation:\n",
      "\n",
      "222197.15115249116 343.9357513550652\n"
     ]
    }
   ],
   "source": [
    "name_SVM = 'SVM'\n",
    "params = {\n",
    "    \"C\": 2000,\n",
    "    \"kernel\": 'rbf',\n",
    "    \"gamma\": 'auto'\n",
    "}\n",
    "\n",
    "model_SVM = SVR(** params)\n",
    "print(f'Training {name_SVM}...')\n",
    "\n",
    "model_SVM.fit(X_train, y_train)\n",
    "y_pred = model_SVM.predict(X_test)\n",
    "\n",
    "y_train_pred = model_SVM.predict(X_train)\n",
    "\n",
    "print(f'{name_SVM} training completed.')\n",
    "result_df = pd.DataFrame({\n",
    "        'Id': range(len(y_pred)),\n",
    "        'Predicted': y_pred\n",
    "    })\n",
    "save_path = './data/predictions/' + name_SVM + '.csv'\n",
    "result_df.to_csv(save_path, index=False)\n",
    "print(f'{name_SVM} training result saved.\\n')\n",
    "\n",
    "print('{} evaluation:\\n'.format(name_SVM))\n",
    "\n",
    "mse_GradientBoosting = mean_squared_error(y_train, y_train_pred)\n",
    "mae_GradientBoosting = mean_absolute_error(y_train, y_train_pred)\n",
    "print(mse_GradientBoosting,mae_GradientBoosting)\n",
    "\n",
    "# Calculate the RMSE based on another prediction\n",
    "# pred_best = pd.read_csv('./data/predictions/Gradient Boosting.csv')\n",
    "# y_pred_best = pred_best['Predicted']\n",
    "# mse_GradientBoosting = mean_squared_error(y_pred, y_pred_best)\n",
    "# rmse_GradientBoosting = np.sqrt(mse_GradientBoosting)\n",
    "# print(rmse_GradientBoosting)"
   ]
  },
  {
   "cell_type": "code",
   "execution_count": null,
   "metadata": {},
   "outputs": [],
   "source": []
  }
 ],
 "metadata": {
  "kernelspec": {
   "display_name": "CS5228",
   "language": "python",
   "name": "python3"
  },
  "language_info": {
   "codemirror_mode": {
    "name": "ipython",
    "version": 3
   },
   "file_extension": ".py",
   "mimetype": "text/x-python",
   "name": "python",
   "nbconvert_exporter": "python",
   "pygments_lexer": "ipython3",
   "version": "3.8.18"
  }
 },
 "nbformat": 4,
 "nbformat_minor": 2
}
